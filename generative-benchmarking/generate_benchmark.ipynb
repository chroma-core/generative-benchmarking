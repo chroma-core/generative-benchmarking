{
 "cells": [
  {
   "cell_type": "markdown",
   "metadata": {},
   "source": [
    "# Generate Custom Benchmark\n",
    "\n",
    "This notebook walks through how to generate a custom benchmark based on your data.\n",
    "\n",
    "We will be using OpenAI for our embedding model and LLM, but this can easily be switched out:\n",
    "- Various embedding functions are provided in `embedding_functions.py`\n",
    "- LLM prompts are provided in `llm_functions.py`"
   ]
  },
  {
   "cell_type": "markdown",
   "metadata": {},
   "source": [
    "## 1. Setup"
   ]
  },
  {
   "cell_type": "markdown",
   "metadata": {},
   "source": [
    "### 1.1 Install & Import\n",
    "\n",
    "Install the necessary packages."
   ]
  },
  {
   "cell_type": "code",
   "execution_count": 3,
   "metadata": {},
   "outputs": [
    {
     "name": "stdout",
     "output_type": "stream",
     "text": [
      "Defaulting to user installation because normal site-packages is not writeable\n",
      "Requirement already satisfied: chromadb in /Users/kellyhong/Library/Python/3.9/lib/python/site-packages (from -r requirements.txt (line 1)) (0.6.3)\n",
      "Requirement already satisfied: pandas in /Users/kellyhong/Library/Python/3.9/lib/python/site-packages (from -r requirements.txt (line 2)) (2.2.3)\n",
      "Requirement already satisfied: numpy in /Users/kellyhong/Library/Python/3.9/lib/python/site-packages (from -r requirements.txt (line 3)) (1.26.4)\n",
      "Requirement already satisfied: tqdm in /Users/kellyhong/Library/Python/3.9/lib/python/site-packages (from -r requirements.txt (line 4)) (4.67.1)\n",
      "Requirement already satisfied: matplotlib in /Users/kellyhong/Library/Python/3.9/lib/python/site-packages (from -r requirements.txt (line 5)) (3.9.4)\n",
      "Requirement already satisfied: datasets in /Users/kellyhong/Library/Python/3.9/lib/python/site-packages (from -r requirements.txt (line 6)) (2.21.0)\n",
      "Requirement already satisfied: sentence-transformers in /Users/kellyhong/Library/Python/3.9/lib/python/site-packages (from -r requirements.txt (line 7)) (3.4.0)\n",
      "Requirement already satisfied: voyageai in /Users/kellyhong/Library/Python/3.9/lib/python/site-packages (from -r requirements.txt (line 8)) (0.3.2)\n",
      "Requirement already satisfied: openai in /Users/kellyhong/Library/Python/3.9/lib/python/site-packages (from -r requirements.txt (line 9)) (1.59.9)\n",
      "Requirement already satisfied: anthropic in /Users/kellyhong/Library/Python/3.9/lib/python/site-packages (from -r requirements.txt (line 10)) (0.44.0)\n",
      "Requirement already satisfied: pytrec_eval in /Users/kellyhong/Library/Python/3.9/lib/python/site-packages (from -r requirements.txt (line 11)) (0.5)\n",
      "Requirement already satisfied: build>=1.0.3 in /Users/kellyhong/Library/Python/3.9/lib/python/site-packages (from chromadb->-r requirements.txt (line 1)) (1.2.2.post1)\n",
      "Requirement already satisfied: pydantic>=1.9 in /Users/kellyhong/Library/Python/3.9/lib/python/site-packages (from chromadb->-r requirements.txt (line 1)) (2.10.5)\n",
      "Requirement already satisfied: chroma-hnswlib==0.7.6 in /Users/kellyhong/Library/Python/3.9/lib/python/site-packages (from chromadb->-r requirements.txt (line 1)) (0.7.6)\n",
      "Requirement already satisfied: fastapi>=0.95.2 in /Users/kellyhong/Library/Python/3.9/lib/python/site-packages (from chromadb->-r requirements.txt (line 1)) (0.115.6)\n",
      "Requirement already satisfied: uvicorn>=0.18.3 in /Users/kellyhong/Library/Python/3.9/lib/python/site-packages (from uvicorn[standard]>=0.18.3->chromadb->-r requirements.txt (line 1)) (0.34.0)\n",
      "Requirement already satisfied: posthog>=2.4.0 in /Users/kellyhong/Library/Python/3.9/lib/python/site-packages (from chromadb->-r requirements.txt (line 1)) (3.8.4)\n",
      "Requirement already satisfied: typing_extensions>=4.5.0 in /Users/kellyhong/Library/Python/3.9/lib/python/site-packages (from chromadb->-r requirements.txt (line 1)) (4.12.2)\n",
      "Requirement already satisfied: onnxruntime>=1.14.1 in /Users/kellyhong/Library/Python/3.9/lib/python/site-packages (from chromadb->-r requirements.txt (line 1)) (1.19.2)\n",
      "Requirement already satisfied: opentelemetry-api>=1.2.0 in /Users/kellyhong/Library/Python/3.9/lib/python/site-packages (from chromadb->-r requirements.txt (line 1)) (1.29.0)\n",
      "Requirement already satisfied: opentelemetry-exporter-otlp-proto-grpc>=1.2.0 in /Users/kellyhong/Library/Python/3.9/lib/python/site-packages (from chromadb->-r requirements.txt (line 1)) (1.29.0)\n",
      "Requirement already satisfied: opentelemetry-instrumentation-fastapi>=0.41b0 in /Users/kellyhong/Library/Python/3.9/lib/python/site-packages (from chromadb->-r requirements.txt (line 1)) (0.50b0)\n",
      "Requirement already satisfied: opentelemetry-sdk>=1.2.0 in /Users/kellyhong/Library/Python/3.9/lib/python/site-packages (from chromadb->-r requirements.txt (line 1)) (1.29.0)\n",
      "Requirement already satisfied: tokenizers>=0.13.2 in /Users/kellyhong/Library/Python/3.9/lib/python/site-packages (from chromadb->-r requirements.txt (line 1)) (0.21.0)\n",
      "Requirement already satisfied: pypika>=0.48.9 in /Users/kellyhong/Library/Python/3.9/lib/python/site-packages (from chromadb->-r requirements.txt (line 1)) (0.48.9)\n",
      "Requirement already satisfied: overrides>=7.3.1 in /Users/kellyhong/Library/Python/3.9/lib/python/site-packages (from chromadb->-r requirements.txt (line 1)) (7.7.0)\n",
      "Requirement already satisfied: importlib-resources in /Users/kellyhong/Library/Python/3.9/lib/python/site-packages (from chromadb->-r requirements.txt (line 1)) (6.5.2)\n",
      "Requirement already satisfied: grpcio>=1.58.0 in /Users/kellyhong/Library/Python/3.9/lib/python/site-packages (from chromadb->-r requirements.txt (line 1)) (1.67.1)\n",
      "Requirement already satisfied: bcrypt>=4.0.1 in /Users/kellyhong/Library/Python/3.9/lib/python/site-packages (from chromadb->-r requirements.txt (line 1)) (4.2.1)\n",
      "Requirement already satisfied: typer>=0.9.0 in /Users/kellyhong/Library/Python/3.9/lib/python/site-packages (from chromadb->-r requirements.txt (line 1)) (0.15.1)\n",
      "Requirement already satisfied: kubernetes>=28.1.0 in /Users/kellyhong/Library/Python/3.9/lib/python/site-packages (from chromadb->-r requirements.txt (line 1)) (31.0.0)\n",
      "Requirement already satisfied: tenacity>=8.2.3 in /Users/kellyhong/Library/Python/3.9/lib/python/site-packages (from chromadb->-r requirements.txt (line 1)) (9.0.0)\n",
      "Requirement already satisfied: PyYAML>=6.0.0 in /Users/kellyhong/Library/Python/3.9/lib/python/site-packages (from chromadb->-r requirements.txt (line 1)) (6.0.2)\n",
      "Requirement already satisfied: mmh3>=4.0.1 in /Users/kellyhong/Library/Python/3.9/lib/python/site-packages (from chromadb->-r requirements.txt (line 1)) (5.0.1)\n",
      "Requirement already satisfied: orjson>=3.9.12 in /Users/kellyhong/Library/Python/3.9/lib/python/site-packages (from chromadb->-r requirements.txt (line 1)) (3.10.15)\n",
      "Requirement already satisfied: httpx>=0.27.0 in /Users/kellyhong/Library/Python/3.9/lib/python/site-packages (from chromadb->-r requirements.txt (line 1)) (0.28.1)\n",
      "Requirement already satisfied: rich>=10.11.0 in /Users/kellyhong/Library/Python/3.9/lib/python/site-packages (from chromadb->-r requirements.txt (line 1)) (13.9.4)\n",
      "Requirement already satisfied: python-dateutil>=2.8.2 in /Users/kellyhong/Library/Python/3.9/lib/python/site-packages (from pandas->-r requirements.txt (line 2)) (2.9.0.post0)\n",
      "Requirement already satisfied: pytz>=2020.1 in /Users/kellyhong/Library/Python/3.9/lib/python/site-packages (from pandas->-r requirements.txt (line 2)) (2024.2)\n",
      "Requirement already satisfied: tzdata>=2022.7 in /Users/kellyhong/Library/Python/3.9/lib/python/site-packages (from pandas->-r requirements.txt (line 2)) (2025.1)\n",
      "Requirement already satisfied: contourpy>=1.0.1 in /Users/kellyhong/Library/Python/3.9/lib/python/site-packages (from matplotlib->-r requirements.txt (line 5)) (1.3.0)\n",
      "Requirement already satisfied: cycler>=0.10 in /Users/kellyhong/Library/Python/3.9/lib/python/site-packages (from matplotlib->-r requirements.txt (line 5)) (0.12.1)\n",
      "Requirement already satisfied: fonttools>=4.22.0 in /Users/kellyhong/Library/Python/3.9/lib/python/site-packages (from matplotlib->-r requirements.txt (line 5)) (4.55.8)\n",
      "Requirement already satisfied: kiwisolver>=1.3.1 in /Users/kellyhong/Library/Python/3.9/lib/python/site-packages (from matplotlib->-r requirements.txt (line 5)) (1.4.7)\n",
      "Requirement already satisfied: packaging>=20.0 in /Users/kellyhong/Library/Python/3.9/lib/python/site-packages (from matplotlib->-r requirements.txt (line 5)) (24.2)\n",
      "Requirement already satisfied: pillow>=8 in /Users/kellyhong/Library/Python/3.9/lib/python/site-packages (from matplotlib->-r requirements.txt (line 5)) (11.1.0)\n",
      "Requirement already satisfied: pyparsing>=2.3.1 in /Users/kellyhong/Library/Python/3.9/lib/python/site-packages (from matplotlib->-r requirements.txt (line 5)) (3.2.1)\n",
      "Requirement already satisfied: filelock in /Users/kellyhong/Library/Python/3.9/lib/python/site-packages (from datasets->-r requirements.txt (line 6)) (3.17.0)\n",
      "Requirement already satisfied: pyarrow>=15.0.0 in /Users/kellyhong/Library/Python/3.9/lib/python/site-packages (from datasets->-r requirements.txt (line 6)) (19.0.0)\n",
      "Requirement already satisfied: dill<0.3.9,>=0.3.0 in /Users/kellyhong/Library/Python/3.9/lib/python/site-packages (from datasets->-r requirements.txt (line 6)) (0.3.8)\n",
      "Requirement already satisfied: requests>=2.32.2 in /Users/kellyhong/Library/Python/3.9/lib/python/site-packages (from datasets->-r requirements.txt (line 6)) (2.32.3)\n",
      "Requirement already satisfied: xxhash in /Users/kellyhong/Library/Python/3.9/lib/python/site-packages (from datasets->-r requirements.txt (line 6)) (3.5.0)\n",
      "Requirement already satisfied: multiprocess in /Users/kellyhong/Library/Python/3.9/lib/python/site-packages (from datasets->-r requirements.txt (line 6)) (0.70.16)\n",
      "Requirement already satisfied: fsspec<=2024.6.1,>=2023.1.0 in /Users/kellyhong/Library/Python/3.9/lib/python/site-packages (from fsspec[http]<=2024.6.1,>=2023.1.0->datasets->-r requirements.txt (line 6)) (2024.6.1)\n",
      "Requirement already satisfied: aiohttp in /Users/kellyhong/Library/Python/3.9/lib/python/site-packages (from datasets->-r requirements.txt (line 6)) (3.11.11)\n",
      "Requirement already satisfied: huggingface-hub>=0.21.2 in /Users/kellyhong/Library/Python/3.9/lib/python/site-packages (from datasets->-r requirements.txt (line 6)) (0.27.1)\n",
      "Requirement already satisfied: transformers<5.0.0,>=4.41.0 in /Users/kellyhong/Library/Python/3.9/lib/python/site-packages (from sentence-transformers->-r requirements.txt (line 7)) (4.48.1)\n",
      "Requirement already satisfied: torch>=1.11.0 in /Users/kellyhong/Library/Python/3.9/lib/python/site-packages (from sentence-transformers->-r requirements.txt (line 7)) (2.5.1)\n",
      "Requirement already satisfied: scikit-learn in /Users/kellyhong/Library/Python/3.9/lib/python/site-packages (from sentence-transformers->-r requirements.txt (line 7)) (1.6.1)\n",
      "Requirement already satisfied: scipy in /Users/kellyhong/Library/Python/3.9/lib/python/site-packages (from sentence-transformers->-r requirements.txt (line 7)) (1.13.1)\n",
      "Requirement already satisfied: aiolimiter in /Users/kellyhong/Library/Python/3.9/lib/python/site-packages (from voyageai->-r requirements.txt (line 8)) (1.2.1)\n",
      "Requirement already satisfied: anyio<5,>=3.5.0 in /Users/kellyhong/Library/Python/3.9/lib/python/site-packages (from openai->-r requirements.txt (line 9)) (4.8.0)\n",
      "Requirement already satisfied: distro<2,>=1.7.0 in /Users/kellyhong/Library/Python/3.9/lib/python/site-packages (from openai->-r requirements.txt (line 9)) (1.9.0)\n",
      "Requirement already satisfied: jiter<1,>=0.4.0 in /Users/kellyhong/Library/Python/3.9/lib/python/site-packages (from openai->-r requirements.txt (line 9)) (0.8.2)\n",
      "Requirement already satisfied: sniffio in /Users/kellyhong/Library/Python/3.9/lib/python/site-packages (from openai->-r requirements.txt (line 9)) (1.3.1)\n",
      "Requirement already satisfied: exceptiongroup>=1.0.2 in /Users/kellyhong/Library/Python/3.9/lib/python/site-packages (from anyio<5,>=3.5.0->openai->-r requirements.txt (line 9)) (1.2.2)\n",
      "Requirement already satisfied: idna>=2.8 in /Users/kellyhong/Library/Python/3.9/lib/python/site-packages (from anyio<5,>=3.5.0->openai->-r requirements.txt (line 9)) (3.10)\n",
      "Requirement already satisfied: pyproject_hooks in /Users/kellyhong/Library/Python/3.9/lib/python/site-packages (from build>=1.0.3->chromadb->-r requirements.txt (line 1)) (1.2.0)\n",
      "Requirement already satisfied: importlib-metadata>=4.6 in /Users/kellyhong/Library/Python/3.9/lib/python/site-packages (from build>=1.0.3->chromadb->-r requirements.txt (line 1)) (8.5.0)\n",
      "Requirement already satisfied: tomli>=1.1.0 in /Users/kellyhong/Library/Python/3.9/lib/python/site-packages (from build>=1.0.3->chromadb->-r requirements.txt (line 1)) (2.2.1)\n",
      "Requirement already satisfied: starlette<0.42.0,>=0.40.0 in /Users/kellyhong/Library/Python/3.9/lib/python/site-packages (from fastapi>=0.95.2->chromadb->-r requirements.txt (line 1)) (0.41.3)\n",
      "Requirement already satisfied: aiohappyeyeballs>=2.3.0 in /Users/kellyhong/Library/Python/3.9/lib/python/site-packages (from aiohttp->datasets->-r requirements.txt (line 6)) (2.4.4)\n",
      "Requirement already satisfied: aiosignal>=1.1.2 in /Users/kellyhong/Library/Python/3.9/lib/python/site-packages (from aiohttp->datasets->-r requirements.txt (line 6)) (1.3.2)\n",
      "Requirement already satisfied: async-timeout<6.0,>=4.0 in /Users/kellyhong/Library/Python/3.9/lib/python/site-packages (from aiohttp->datasets->-r requirements.txt (line 6)) (4.0.3)\n",
      "Requirement already satisfied: attrs>=17.3.0 in /Users/kellyhong/Library/Python/3.9/lib/python/site-packages (from aiohttp->datasets->-r requirements.txt (line 6)) (24.3.0)\n",
      "Requirement already satisfied: frozenlist>=1.1.1 in /Users/kellyhong/Library/Python/3.9/lib/python/site-packages (from aiohttp->datasets->-r requirements.txt (line 6)) (1.5.0)\n",
      "Requirement already satisfied: multidict<7.0,>=4.5 in /Users/kellyhong/Library/Python/3.9/lib/python/site-packages (from aiohttp->datasets->-r requirements.txt (line 6)) (6.1.0)\n",
      "Requirement already satisfied: propcache>=0.2.0 in /Users/kellyhong/Library/Python/3.9/lib/python/site-packages (from aiohttp->datasets->-r requirements.txt (line 6)) (0.2.1)\n",
      "Requirement already satisfied: yarl<2.0,>=1.17.0 in /Users/kellyhong/Library/Python/3.9/lib/python/site-packages (from aiohttp->datasets->-r requirements.txt (line 6)) (1.18.3)\n",
      "Requirement already satisfied: certifi in /Users/kellyhong/Library/Python/3.9/lib/python/site-packages (from httpx>=0.27.0->chromadb->-r requirements.txt (line 1)) (2024.12.14)\n",
      "Requirement already satisfied: httpcore==1.* in /Users/kellyhong/Library/Python/3.9/lib/python/site-packages (from httpx>=0.27.0->chromadb->-r requirements.txt (line 1)) (1.0.7)\n",
      "Requirement already satisfied: h11<0.15,>=0.13 in /Users/kellyhong/Library/Python/3.9/lib/python/site-packages (from httpcore==1.*->httpx>=0.27.0->chromadb->-r requirements.txt (line 1)) (0.14.0)\n",
      "Requirement already satisfied: zipp>=3.1.0 in /Users/kellyhong/Library/Python/3.9/lib/python/site-packages (from importlib-resources->chromadb->-r requirements.txt (line 1)) (3.21.0)\n",
      "Requirement already satisfied: six>=1.9.0 in /Library/Developer/CommandLineTools/Library/Frameworks/Python3.framework/Versions/3.9/lib/python3.9/site-packages (from kubernetes>=28.1.0->chromadb->-r requirements.txt (line 1)) (1.15.0)\n",
      "Requirement already satisfied: google-auth>=1.0.1 in /Users/kellyhong/Library/Python/3.9/lib/python/site-packages (from kubernetes>=28.1.0->chromadb->-r requirements.txt (line 1)) (2.37.0)\n",
      "Requirement already satisfied: websocket-client!=0.40.0,!=0.41.*,!=0.42.*,>=0.32.0 in /Users/kellyhong/Library/Python/3.9/lib/python/site-packages (from kubernetes>=28.1.0->chromadb->-r requirements.txt (line 1)) (1.8.0)\n",
      "Requirement already satisfied: requests-oauthlib in /Users/kellyhong/Library/Python/3.9/lib/python/site-packages (from kubernetes>=28.1.0->chromadb->-r requirements.txt (line 1)) (2.0.0)\n",
      "Requirement already satisfied: oauthlib>=3.2.2 in /Users/kellyhong/Library/Python/3.9/lib/python/site-packages (from kubernetes>=28.1.0->chromadb->-r requirements.txt (line 1)) (3.2.2)\n",
      "Requirement already satisfied: urllib3>=1.24.2 in /Users/kellyhong/Library/Python/3.9/lib/python/site-packages (from kubernetes>=28.1.0->chromadb->-r requirements.txt (line 1)) (2.3.0)\n",
      "Requirement already satisfied: durationpy>=0.7 in /Users/kellyhong/Library/Python/3.9/lib/python/site-packages (from kubernetes>=28.1.0->chromadb->-r requirements.txt (line 1)) (0.9)\n",
      "Requirement already satisfied: coloredlogs in /Users/kellyhong/Library/Python/3.9/lib/python/site-packages (from onnxruntime>=1.14.1->chromadb->-r requirements.txt (line 1)) (15.0.1)\n",
      "Requirement already satisfied: flatbuffers in /Users/kellyhong/Library/Python/3.9/lib/python/site-packages (from onnxruntime>=1.14.1->chromadb->-r requirements.txt (line 1)) (24.12.23)\n",
      "Requirement already satisfied: protobuf in /Users/kellyhong/Library/Python/3.9/lib/python/site-packages (from onnxruntime>=1.14.1->chromadb->-r requirements.txt (line 1)) (5.29.3)\n",
      "Requirement already satisfied: sympy in /Users/kellyhong/Library/Python/3.9/lib/python/site-packages (from onnxruntime>=1.14.1->chromadb->-r requirements.txt (line 1)) (1.13.1)\n",
      "Requirement already satisfied: deprecated>=1.2.6 in /Users/kellyhong/Library/Python/3.9/lib/python/site-packages (from opentelemetry-api>=1.2.0->chromadb->-r requirements.txt (line 1)) (1.2.15)\n",
      "Requirement already satisfied: googleapis-common-protos~=1.52 in /Users/kellyhong/Library/Python/3.9/lib/python/site-packages (from opentelemetry-exporter-otlp-proto-grpc>=1.2.0->chromadb->-r requirements.txt (line 1)) (1.66.0)\n",
      "Requirement already satisfied: opentelemetry-exporter-otlp-proto-common==1.29.0 in /Users/kellyhong/Library/Python/3.9/lib/python/site-packages (from opentelemetry-exporter-otlp-proto-grpc>=1.2.0->chromadb->-r requirements.txt (line 1)) (1.29.0)\n",
      "Requirement already satisfied: opentelemetry-proto==1.29.0 in /Users/kellyhong/Library/Python/3.9/lib/python/site-packages (from opentelemetry-exporter-otlp-proto-grpc>=1.2.0->chromadb->-r requirements.txt (line 1)) (1.29.0)\n",
      "Requirement already satisfied: opentelemetry-instrumentation-asgi==0.50b0 in /Users/kellyhong/Library/Python/3.9/lib/python/site-packages (from opentelemetry-instrumentation-fastapi>=0.41b0->chromadb->-r requirements.txt (line 1)) (0.50b0)\n",
      "Requirement already satisfied: opentelemetry-instrumentation==0.50b0 in /Users/kellyhong/Library/Python/3.9/lib/python/site-packages (from opentelemetry-instrumentation-fastapi>=0.41b0->chromadb->-r requirements.txt (line 1)) (0.50b0)\n",
      "Requirement already satisfied: opentelemetry-semantic-conventions==0.50b0 in /Users/kellyhong/Library/Python/3.9/lib/python/site-packages (from opentelemetry-instrumentation-fastapi>=0.41b0->chromadb->-r requirements.txt (line 1)) (0.50b0)\n",
      "Requirement already satisfied: opentelemetry-util-http==0.50b0 in /Users/kellyhong/Library/Python/3.9/lib/python/site-packages (from opentelemetry-instrumentation-fastapi>=0.41b0->chromadb->-r requirements.txt (line 1)) (0.50b0)\n",
      "Requirement already satisfied: wrapt<2.0.0,>=1.0.0 in /Users/kellyhong/Library/Python/3.9/lib/python/site-packages (from opentelemetry-instrumentation==0.50b0->opentelemetry-instrumentation-fastapi>=0.41b0->chromadb->-r requirements.txt (line 1)) (1.17.2)\n",
      "Requirement already satisfied: asgiref~=3.0 in /Users/kellyhong/Library/Python/3.9/lib/python/site-packages (from opentelemetry-instrumentation-asgi==0.50b0->opentelemetry-instrumentation-fastapi>=0.41b0->chromadb->-r requirements.txt (line 1)) (3.8.1)\n",
      "Requirement already satisfied: monotonic>=1.5 in /Users/kellyhong/Library/Python/3.9/lib/python/site-packages (from posthog>=2.4.0->chromadb->-r requirements.txt (line 1)) (1.6)\n",
      "Requirement already satisfied: backoff>=1.10.0 in /Users/kellyhong/Library/Python/3.9/lib/python/site-packages (from posthog>=2.4.0->chromadb->-r requirements.txt (line 1)) (2.2.1)\n",
      "Requirement already satisfied: annotated-types>=0.6.0 in /Users/kellyhong/Library/Python/3.9/lib/python/site-packages (from pydantic>=1.9->chromadb->-r requirements.txt (line 1)) (0.7.0)\n",
      "Requirement already satisfied: pydantic-core==2.27.2 in /Users/kellyhong/Library/Python/3.9/lib/python/site-packages (from pydantic>=1.9->chromadb->-r requirements.txt (line 1)) (2.27.2)\n",
      "Requirement already satisfied: charset-normalizer<4,>=2 in /Users/kellyhong/Library/Python/3.9/lib/python/site-packages (from requests>=2.32.2->datasets->-r requirements.txt (line 6)) (3.4.1)\n",
      "Requirement already satisfied: markdown-it-py>=2.2.0 in /Users/kellyhong/Library/Python/3.9/lib/python/site-packages (from rich>=10.11.0->chromadb->-r requirements.txt (line 1)) (3.0.0)\n",
      "Requirement already satisfied: pygments<3.0.0,>=2.13.0 in /Users/kellyhong/Library/Python/3.9/lib/python/site-packages (from rich>=10.11.0->chromadb->-r requirements.txt (line 1)) (2.19.1)\n",
      "Requirement already satisfied: networkx in /Users/kellyhong/Library/Python/3.9/lib/python/site-packages (from torch>=1.11.0->sentence-transformers->-r requirements.txt (line 7)) (3.2.1)\n",
      "Requirement already satisfied: jinja2 in /Users/kellyhong/Library/Python/3.9/lib/python/site-packages (from torch>=1.11.0->sentence-transformers->-r requirements.txt (line 7)) (3.1.5)\n",
      "Requirement already satisfied: mpmath<1.4,>=1.1.0 in /Users/kellyhong/Library/Python/3.9/lib/python/site-packages (from sympy->onnxruntime>=1.14.1->chromadb->-r requirements.txt (line 1)) (1.3.0)\n",
      "Requirement already satisfied: regex!=2019.12.17 in /Users/kellyhong/Library/Python/3.9/lib/python/site-packages (from transformers<5.0.0,>=4.41.0->sentence-transformers->-r requirements.txt (line 7)) (2024.11.6)\n",
      "Requirement already satisfied: safetensors>=0.4.1 in /Users/kellyhong/Library/Python/3.9/lib/python/site-packages (from transformers<5.0.0,>=4.41.0->sentence-transformers->-r requirements.txt (line 7)) (0.5.2)\n",
      "Requirement already satisfied: click>=8.0.0 in /Users/kellyhong/Library/Python/3.9/lib/python/site-packages (from typer>=0.9.0->chromadb->-r requirements.txt (line 1)) (8.1.8)\n",
      "Requirement already satisfied: shellingham>=1.3.0 in /Users/kellyhong/Library/Python/3.9/lib/python/site-packages (from typer>=0.9.0->chromadb->-r requirements.txt (line 1)) (1.5.4)\n",
      "Requirement already satisfied: httptools>=0.6.3 in /Users/kellyhong/Library/Python/3.9/lib/python/site-packages (from uvicorn[standard]>=0.18.3->chromadb->-r requirements.txt (line 1)) (0.6.4)\n",
      "Requirement already satisfied: python-dotenv>=0.13 in /Users/kellyhong/Library/Python/3.9/lib/python/site-packages (from uvicorn[standard]>=0.18.3->chromadb->-r requirements.txt (line 1)) (1.0.1)\n",
      "Requirement already satisfied: uvloop!=0.15.0,!=0.15.1,>=0.14.0 in /Users/kellyhong/Library/Python/3.9/lib/python/site-packages (from uvicorn[standard]>=0.18.3->chromadb->-r requirements.txt (line 1)) (0.21.0)\n",
      "Requirement already satisfied: watchfiles>=0.13 in /Users/kellyhong/Library/Python/3.9/lib/python/site-packages (from uvicorn[standard]>=0.18.3->chromadb->-r requirements.txt (line 1)) (1.0.4)\n",
      "Requirement already satisfied: websockets>=10.4 in /Users/kellyhong/Library/Python/3.9/lib/python/site-packages (from uvicorn[standard]>=0.18.3->chromadb->-r requirements.txt (line 1)) (14.2)\n",
      "Requirement already satisfied: joblib>=1.2.0 in /Users/kellyhong/Library/Python/3.9/lib/python/site-packages (from scikit-learn->sentence-transformers->-r requirements.txt (line 7)) (1.4.2)\n",
      "Requirement already satisfied: threadpoolctl>=3.1.0 in /Users/kellyhong/Library/Python/3.9/lib/python/site-packages (from scikit-learn->sentence-transformers->-r requirements.txt (line 7)) (3.5.0)\n",
      "Requirement already satisfied: cachetools<6.0,>=2.0.0 in /Users/kellyhong/Library/Python/3.9/lib/python/site-packages (from google-auth>=1.0.1->kubernetes>=28.1.0->chromadb->-r requirements.txt (line 1)) (5.5.1)\n",
      "Requirement already satisfied: pyasn1-modules>=0.2.1 in /Users/kellyhong/Library/Python/3.9/lib/python/site-packages (from google-auth>=1.0.1->kubernetes>=28.1.0->chromadb->-r requirements.txt (line 1)) (0.4.1)\n",
      "Requirement already satisfied: rsa<5,>=3.1.4 in /Users/kellyhong/Library/Python/3.9/lib/python/site-packages (from google-auth>=1.0.1->kubernetes>=28.1.0->chromadb->-r requirements.txt (line 1)) (4.9)\n",
      "Requirement already satisfied: mdurl~=0.1 in /Users/kellyhong/Library/Python/3.9/lib/python/site-packages (from markdown-it-py>=2.2.0->rich>=10.11.0->chromadb->-r requirements.txt (line 1)) (0.1.2)\n",
      "Requirement already satisfied: humanfriendly>=9.1 in /Users/kellyhong/Library/Python/3.9/lib/python/site-packages (from coloredlogs->onnxruntime>=1.14.1->chromadb->-r requirements.txt (line 1)) (10.0)\n",
      "Requirement already satisfied: MarkupSafe>=2.0 in /Users/kellyhong/Library/Python/3.9/lib/python/site-packages (from jinja2->torch>=1.11.0->sentence-transformers->-r requirements.txt (line 7)) (3.0.2)\n",
      "Requirement already satisfied: pyasn1<0.7.0,>=0.4.6 in /Users/kellyhong/Library/Python/3.9/lib/python/site-packages (from pyasn1-modules>=0.2.1->google-auth>=1.0.1->kubernetes>=28.1.0->chromadb->-r requirements.txt (line 1)) (0.6.1)\n",
      "\n",
      "\u001b[1m[\u001b[0m\u001b[34;49mnotice\u001b[0m\u001b[1;39;49m]\u001b[0m\u001b[39;49m A new release of pip is available: \u001b[0m\u001b[31;49m24.3.1\u001b[0m\u001b[39;49m -> \u001b[0m\u001b[32;49m25.0.1\u001b[0m\n",
      "\u001b[1m[\u001b[0m\u001b[34;49mnotice\u001b[0m\u001b[1;39;49m]\u001b[0m\u001b[39;49m To update, run: \u001b[0m\u001b[32;49m/Library/Developer/CommandLineTools/usr/bin/python3 -m pip install --upgrade pip\u001b[0m\n"
     ]
    }
   ],
   "source": [
    "!pip install -r requirements.txt"
   ]
  },
  {
   "cell_type": "markdown",
   "metadata": {},
   "source": [
    "Import modules."
   ]
  },
  {
   "cell_type": "code",
   "execution_count": 36,
   "metadata": {},
   "outputs": [
    {
     "name": "stdout",
     "output_type": "stream",
     "text": [
      "The autoreload extension is already loaded. To reload it, use:\n",
      "  %reload_ext autoreload\n"
     ]
    },
    {
     "data": {
      "text/plain": [
       "True"
      ]
     },
     "execution_count": 36,
     "metadata": {},
     "output_type": "execute_result"
    }
   ],
   "source": [
    "%load_ext autoreload\n",
    "%autoreload 2\n",
    "\n",
    "import chromadb\n",
    "import pandas as pd\n",
    "import numpy as np\n",
    "import datasets\n",
    "import json\n",
    "import os\n",
    "from datetime import datetime\n",
    "from dotenv import load_dotenv\n",
    "import datetime\n",
    "from openai import OpenAI as OpenAIClient\n",
    "from anthropic import Anthropic as AnthropicClient\n",
    "from functions.llm import *\n",
    "from functions.embed import *\n",
    "from functions.chroma import *\n",
    "from functions.evaluate import *\n",
    "from functions.visualize import *\n",
    "\n",
    "load_dotenv()"
   ]
  },
  {
   "cell_type": "markdown",
   "metadata": {},
   "source": [
    "### 1.2 Set Variables"
   ]
  },
  {
   "cell_type": "markdown",
   "metadata": {},
   "source": [
    "We use pre-chunked [Chroma Docs](https://docs.trychroma.com/docs/overview/introduction) as an example. To run this notebook with your own data, uncomment the commented out lines and fill in."
   ]
  },
  {
   "cell_type": "code",
   "execution_count": 5,
   "metadata": {},
   "outputs": [],
   "source": [
    "with open('data/chroma_docs.json', 'r') as f:\n",
    "    corpus = json.load(f)\n",
    "\n",
    "context = \"This is a technical support bot for Chroma, a vector database often used by developers for building AI applications.\"\n",
    "example_queries = \"\"\"\n",
    "    how to add to a collection\n",
    "    filter by metadata\n",
    "    retrieve embeddings when querying\n",
    "    how to use openai embedding function when adding to collection\n",
    "    \"\"\"\n",
    "\n",
    "COLLECTION_NAME = \"chroma-docs\"\n",
    "\n",
    "# Generate a Benchmark with your own data:\n",
    "\n",
    "# with open('filepath/to/your/data.json', 'r') as f:\n",
    "#     corpus = json.load(f)\n",
    "\n",
    "# context = \"FILL IN WITH CONTEXT RELEVANT TO YOUR USE CASE\"\n",
    "# example_queries = \"FILL IN WITH EXAMPLE QUERIES\"\n",
    "\n",
    "# COLLECTION_NAME = \"YOUR COLLECTION NAME\""
   ]
  },
  {
   "cell_type": "markdown",
   "metadata": {},
   "source": [
    "### 1.2 Load API Keys\n",
    "\n",
    "To use Chroma Cloud, you can sign up for a Chroma Cloud account [here](https://www.trychroma.com/) and create a new database."
   ]
  },
  {
   "cell_type": "code",
   "execution_count": 6,
   "metadata": {},
   "outputs": [],
   "source": [
    "# Embedding Model & LLM\n",
    "OPENAI_API_KEY = os.getenv(\"OPENAI_API_KEY\")\n",
    "\n",
    "# If you want to use Chroma Cloud, uncomment and fill in the following:\n",
    "# CHROMA_TENANT = \"YOUR CHROMA TENANT ID\"\n",
    "# X_CHROMA_TOKEN = \"YOUR CHROMA API KEY\"\n",
    "# DATABASE_NAME = \"YOUR CHROMA DATABASE NAME\""
   ]
  },
  {
   "cell_type": "markdown",
   "metadata": {},
   "source": [
    "### 1.3 Set Clients\n",
    "\n",
    "Initialize the clients."
   ]
  },
  {
   "cell_type": "code",
   "execution_count": 7,
   "metadata": {},
   "outputs": [],
   "source": [
    "chroma_client = chromadb.Client()\n",
    "\n",
    "# If you want to use Chroma Cloud, uncomment the following line:\n",
    "# chroma_client = chromadb.HttpClient(\n",
    "#   ssl=True,\n",
    "#   host='api.trychroma.com',\n",
    "#   tenant=CHROMA_TENANT,\n",
    "#   database=DATABASE_NAME,\n",
    "#   headers={\n",
    "#     'x-chroma-token': X_CHROMA_TOKEN\n",
    "#   }\n",
    "# )\n",
    "\n",
    "openai_client = OpenAIClient(api_key=OPENAI_API_KEY)"
   ]
  },
  {
   "cell_type": "markdown",
   "metadata": {},
   "source": [
    "## 2. Create Chroma Collection\n",
    "\n",
    "If you already have a Chroma Collection for your data, skip to **3. Filter Documents for Quality**."
   ]
  },
  {
   "cell_type": "markdown",
   "metadata": {},
   "source": [
    "### 2.1 Load in Your Data"
   ]
  },
  {
   "cell_type": "code",
   "execution_count": 8,
   "metadata": {},
   "outputs": [],
   "source": [
    "corpus_ids = list(corpus.keys())\n",
    "corpus_documents = [corpus[key] for key in corpus_ids]"
   ]
  },
  {
   "cell_type": "markdown",
   "metadata": {},
   "source": [
    "### 2.2 Embed Data & Add to Chroma Collection\n",
    "\n",
    "Embed your documents using an embedding model of your choice. We use Openai's text-embedding-3-large here, but have other functions available in `embed.py`. You may also define your own embedding function.\n",
    "\n",
    "We use batching and multi-threading for efficiency."
   ]
  },
  {
   "cell_type": "code",
   "execution_count": 9,
   "metadata": {},
   "outputs": [
    {
     "name": "stderr",
     "output_type": "stream",
     "text": [
      "Processing OpenAI batches: 100%|██████████| 3/3 [00:03<00:00,  1.29s/it]\n"
     ]
    },
    {
     "name": "stdout",
     "output_type": "stream",
     "text": [
      "Adding 0 to 100Adding 100 to 200\n",
      "\n",
      "Adding 200 to 216\n"
     ]
    }
   ],
   "source": [
    "corpus_embeddings = openai_embed_in_batches(\n",
    "    openai_client=openai_client,\n",
    "    texts=corpus_documents,\n",
    "    model=\"text-embedding-3-large\",\n",
    ")\n",
    "\n",
    "corpus_collection = chroma_client.get_or_create_collection(\n",
    "    name=COLLECTION_NAME,\n",
    "    metadata={\"hnsw:space\": \"cosine\"}\n",
    ")\n",
    "\n",
    "collection_add_in_batches(\n",
    "    collection=corpus_collection,\n",
    "    ids=corpus_ids,\n",
    "    texts=corpus_documents,\n",
    "    embeddings=corpus_embeddings,\n",
    ")"
   ]
  },
  {
   "cell_type": "markdown",
   "metadata": {},
   "source": [
    "## 3. Filter Documents for Quality\n",
    "\n",
    "We begin by filtering our documents prior to query generation, this step ensures that we avoid generating queries from irrelevant or incomplete documents."
   ]
  },
  {
   "cell_type": "markdown",
   "metadata": {},
   "source": [
    "### 3.1 Set Criteria\n",
    "\n",
    "We use the following criteria:\n",
    "- `relevance` checks whether the document is relevant to the specified context\n",
    "- `completeness` checks for overall quality of the document\n",
    "\n",
    "You can modify the criteria as you see fit."
   ]
  },
  {
   "cell_type": "markdown",
   "metadata": {},
   "source": [
    "Fill in `context` according to your use case."
   ]
  },
  {
   "cell_type": "code",
   "execution_count": 10,
   "metadata": {},
   "outputs": [],
   "source": [
    "relevance = f\"The document is relevant to the following context: {context}\"\n",
    "completeness = \"The document is complete, meaning that it contains useful information to answer queries and does not only serve as an introduction to the main content that users may be looking for.\"\n",
    "\n",
    "criteria = [relevance, completeness]\n",
    "criteria_labels = [\"relevance\", \"completeness\"]"
   ]
  },
  {
   "cell_type": "markdown",
   "metadata": {},
   "source": [
    "### 3.2 Get Documents\n",
    "\n",
    "Get your Chroma collection and filter documents according to criteria."
   ]
  },
  {
   "cell_type": "code",
   "execution_count": 11,
   "metadata": {},
   "outputs": [
    {
     "name": "stderr",
     "output_type": "stream",
     "text": [
      "Processing batches: 100%|██████████| 3/3 [00:00<00:00, 111.96it/s]\n"
     ]
    }
   ],
   "source": [
    "corpus_collection = chroma_client.get_collection(\n",
    "    name=COLLECTION_NAME\n",
    ")\n",
    "\n",
    "corpus = get_collection_items(\n",
    "    collection=corpus_collection\n",
    ")\n",
    "\n",
    "corpus_ids = [key for key in corpus.keys()]\n",
    "corpus_documents = [corpus[key]['document'] for key in corpus_ids]"
   ]
  },
  {
   "cell_type": "markdown",
   "metadata": {},
   "source": [
    "### 3.3 Filter Documents\n",
    "\n",
    "We filter our documents using gpt-4o-mini. Batching functions are also available in `llm.py`."
   ]
  },
  {
   "cell_type": "code",
   "execution_count": 12,
   "metadata": {},
   "outputs": [
    {
     "name": "stderr",
     "output_type": "stream",
     "text": [
      "Filtering documents: 100%|██████████| 216/216 [05:25<00:00,  1.51s/it]\n"
     ]
    }
   ],
   "source": [
    "filtered_document_ids = filter_documents(\n",
    "    client=openai_client,\n",
    "    model=\"gpt-4o-mini\",\n",
    "    documents=corpus_documents,\n",
    "    ids=corpus_ids,\n",
    "    criteria=criteria,\n",
    "    criteria_labels=criteria_labels\n",
    ")"
   ]
  },
  {
   "cell_type": "code",
   "execution_count": 13,
   "metadata": {},
   "outputs": [],
   "source": [
    "passed_documents = [corpus[id]['document'] for id in filtered_document_ids]\n",
    "\n",
    "failed_document_ids = [id for id in corpus_ids if id not in filtered_document_ids]"
   ]
  },
  {
   "cell_type": "markdown",
   "metadata": {},
   "source": [
    "### 3.4 View Results"
   ]
  },
  {
   "cell_type": "code",
   "execution_count": 17,
   "metadata": {},
   "outputs": [
    {
     "name": "stdout",
     "output_type": "stream",
     "text": [
      "Number of documents passed: 46\n",
      "Number of documents failed: 170\n",
      "--------------------------------------------------------------------------------\n",
      "Example of passed document:\n",
      "\n",
      "    Any property of records in a collection can be updated with .update\n",
      "\n",
      "    If an id is not found in the collection, an error will be logged and the update will be ignored. If documents are supplied without corresponding embeddings, the embeddings will be recomputed with the collection's embedding function.\n",
      "\n",
      "    If the supplied embeddings are not the same dimension as the collection, an exception will be raised.\n",
      "    \n",
      "--------------------------------------------------------------------------------\n",
      "Example of failed document:\n",
      "\n",
      "    # typescript\n",
      "    import { OpenAIEmbeddingFunction } from 'chromadb';\n",
      "\n",
      "    const embeddingFunction = new OpenAIEmbeddingFunction({\n",
      "        openai_api_key: \"apiKey\",\n",
      "        openai_model: \"text-embedding-3-small\"\n",
      "    })\n",
      "\n",
      "    // use directly\n",
      "    const embeddings = embeddingFunction.generate([\"document1\",\"document2\"])\n",
      "\n",
      "    // pass documents to query for .add and .query\n",
      "    let collection = await client.createCollection({\n",
      "        name: \"name\",\n",
      "        embeddingFunction: embeddingFunction\n",
      "    })\n",
      "    collection = await client.getCollection({\n",
      "        name: \"name\",\n",
      "        embeddingFunction: embeddingFunction\n",
      "    })\n",
      "    \n",
      "--------------------------------------------------------------------------------\n"
     ]
    }
   ],
   "source": [
    "print(f\"Number of documents passed: {len(filtered_document_ids)}\")\n",
    "print(f\"Number of documents failed: {len(failed_document_ids)}\")\n",
    "print(\"-\"*80)\n",
    "print(\"Example of passed document:\")\n",
    "print(corpus[filtered_document_ids[0]]['document'])\n",
    "print(\"-\"*80)\n",
    "print(\"Example of failed document:\")\n",
    "print(corpus[failed_document_ids[0]]['document'])\n",
    "print(\"-\"*80)"
   ]
  },
  {
   "cell_type": "markdown",
   "metadata": {},
   "source": [
    "## 4. Generate Golden Dataset\n",
    "\n",
    "Using our filtered documents, we can genereate a golden dataset of queries."
   ]
  },
  {
   "cell_type": "markdown",
   "metadata": {},
   "source": [
    "### 4.1 Create Custom Prompt\n",
    "\n",
    "We will use the `context` (from the prior section) and `example_queries` for query generation.\n",
    "\n",
    "Fill in `example_queries` with examples of what users may ask. These examples help indicate what kind of topics users typically focus on, as well as the style of query that should be generated."
   ]
  },
  {
   "cell_type": "markdown",
   "metadata": {},
   "source": [
    "### 4.2 Generate Queries\n",
    "\n",
    "Generate queries with gpt-4o. Batching functions are available in `llm.py`."
   ]
  },
  {
   "cell_type": "code",
   "execution_count": 24,
   "metadata": {},
   "outputs": [
    {
     "name": "stderr",
     "output_type": "stream",
     "text": [
      "Generating queries: 100%|██████████| 46/46 [00:35<00:00,  1.30it/s]\n"
     ]
    },
    {
     "data": {
      "text/html": [
       "<div>\n",
       "<style scoped>\n",
       "    .dataframe tbody tr th:only-of-type {\n",
       "        vertical-align: middle;\n",
       "    }\n",
       "\n",
       "    .dataframe tbody tr th {\n",
       "        vertical-align: top;\n",
       "    }\n",
       "\n",
       "    .dataframe thead th {\n",
       "        text-align: right;\n",
       "    }\n",
       "</style>\n",
       "<table border=\"1\" class=\"dataframe\">\n",
       "  <thead>\n",
       "    <tr style=\"text-align: right;\">\n",
       "      <th></th>\n",
       "      <th>id</th>\n",
       "      <th>query</th>\n",
       "    </tr>\n",
       "  </thead>\n",
       "  <tbody>\n",
       "    <tr>\n",
       "      <th>0</th>\n",
       "      <td>3e8cc591-aa06-4f76-90ae-ee1e284c29fd</td>\n",
       "      <td>update records with new embeddings</td>\n",
       "    </tr>\n",
       "    <tr>\n",
       "      <th>1</th>\n",
       "      <td>bc68272d-b038-4f5f-9132-74d07dd010e3</td>\n",
       "      <td>upsert operation with multiple documents</td>\n",
       "    </tr>\n",
       "    <tr>\n",
       "      <th>2</th>\n",
       "      <td>51dedd38-9496-4e7a-8666-b5acf2bd29bb</td>\n",
       "      <td>querying with multiple embeddings</td>\n",
       "    </tr>\n",
       "    <tr>\n",
       "      <th>3</th>\n",
       "      <td>9c820c40-7492-481c-9aba-07b08b0c860d</td>\n",
       "      <td>include parameter usage with get</td>\n",
       "    </tr>\n",
       "    <tr>\n",
       "      <th>4</th>\n",
       "      <td>8e14f0d2-fe83-46f3-a456-044a0b9e4949</td>\n",
       "      <td>submit a CIP for new feature proposal</td>\n",
       "    </tr>\n",
       "  </tbody>\n",
       "</table>\n",
       "</div>"
      ],
      "text/plain": [
       "                                     id  \\\n",
       "0  3e8cc591-aa06-4f76-90ae-ee1e284c29fd   \n",
       "1  bc68272d-b038-4f5f-9132-74d07dd010e3   \n",
       "2  51dedd38-9496-4e7a-8666-b5acf2bd29bb   \n",
       "3  9c820c40-7492-481c-9aba-07b08b0c860d   \n",
       "4  8e14f0d2-fe83-46f3-a456-044a0b9e4949   \n",
       "\n",
       "                                      query  \n",
       "0        update records with new embeddings  \n",
       "1  upsert operation with multiple documents  \n",
       "2         querying with multiple embeddings  \n",
       "3          include parameter usage with get  \n",
       "4     submit a CIP for new feature proposal  "
      ]
     },
     "execution_count": 24,
     "metadata": {},
     "output_type": "execute_result"
    }
   ],
   "source": [
    "golden_dataset = create_golden_dataset(\n",
    "    client=openai_client,\n",
    "    model=\"gpt-4o\",\n",
    "    documents=passed_documents,\n",
    "    ids=filtered_document_ids,\n",
    "    context=context,\n",
    "    example_queries=example_queries\n",
    ")\n",
    "\n",
    "golden_dataset.head()"
   ]
  },
  {
   "cell_type": "markdown",
   "metadata": {},
   "source": [
    "## 5. Evaluate\n",
    "\n",
    "Now that we have our golden dataset, we will can run our evaluation."
   ]
  },
  {
   "cell_type": "markdown",
   "metadata": {},
   "source": [
    "### 5.1 Prepare Inputs"
   ]
  },
  {
   "cell_type": "code",
   "execution_count": 25,
   "metadata": {},
   "outputs": [],
   "source": [
    "queries = golden_dataset['query'].tolist()\n",
    "ids = golden_dataset['id'].tolist()"
   ]
  },
  {
   "cell_type": "markdown",
   "metadata": {},
   "source": [
    "Embed generated queries."
   ]
  },
  {
   "cell_type": "code",
   "execution_count": 26,
   "metadata": {},
   "outputs": [
    {
     "name": "stderr",
     "output_type": "stream",
     "text": [
      "Processing OpenAI batches: 100%|██████████| 1/1 [00:01<00:00,  1.17s/it]\n"
     ]
    }
   ],
   "source": [
    "query_embeddings = openai_embed_in_batches(\n",
    "    openai_client=openai_client,\n",
    "    texts=golden_dataset[\"query\"],\n",
    "    model=\"text-embedding-3-large\"\n",
    ")\n",
    "\n",
    "query_embeddings_lookup = {\n",
    "    id: {\n",
    "        \"text\": query,\n",
    "        \"embedding\": embedding\n",
    "    }\n",
    "    for id, query, embedding in zip(golden_dataset[\"id\"], golden_dataset[\"query\"], query_embeddings)\n",
    "}"
   ]
  },
  {
   "cell_type": "markdown",
   "metadata": {},
   "source": [
    "Create our qrels (query relevance labels) dataframe. In this case, each query and its corresponding document share the same id."
   ]
  },
  {
   "cell_type": "code",
   "execution_count": 27,
   "metadata": {},
   "outputs": [],
   "source": [
    "qrels = pd.DataFrame(\n",
    "    {\n",
    "        \"query-id\": ids,\n",
    "        \"corpus-id\": ids,\n",
    "        \"score\": 1\n",
    "    }\n",
    ")"
   ]
  },
  {
   "cell_type": "markdown",
   "metadata": {},
   "source": [
    "### 5.2 Run Benchmark"
   ]
  },
  {
   "cell_type": "code",
   "execution_count": 28,
   "metadata": {},
   "outputs": [
    {
     "name": "stderr",
     "output_type": "stream",
     "text": [
      "Processing batches: 100%|██████████| 1/1 [00:00<00:00, 14.67it/s]"
     ]
    },
    {
     "name": "stdout",
     "output_type": "stream",
     "text": [
      "NDCG@1: 0.5\n",
      "NDCG@3: 0.68064\n",
      "NDCG@5: 0.69936\n",
      "NDCG@10: 0.7357\n",
      "MAP@1: 0.5\n",
      "MAP@3: 0.63768\n",
      "MAP@5: 0.64855\n",
      "MAP@10: 0.66421\n",
      "Recall@1: 0.5\n",
      "Recall@3: 0.80435\n",
      "Recall@5: 0.84783\n",
      "Recall@10: 0.95652\n",
      "P@1: 0.5\n",
      "P@3: 0.26812\n",
      "P@5: 0.16957\n",
      "P@10: 0.09565\n"
     ]
    },
    {
     "name": "stderr",
     "output_type": "stream",
     "text": [
      "\n"
     ]
    }
   ],
   "source": [
    "results = run_benchmark(\n",
    "    query_embeddings_lookup=query_embeddings_lookup,\n",
    "    collection=corpus_collection,\n",
    "    qrels=qrels\n",
    ")"
   ]
  },
  {
   "cell_type": "markdown",
   "metadata": {},
   "source": [
    "Save results.\n",
    "\n",
    "This is helpful for comparison (e.g. comparing different embedding models or chunking strategies)."
   ]
  },
  {
   "cell_type": "code",
   "execution_count": 39,
   "metadata": {},
   "outputs": [],
   "source": [
    "timestamp = datetime.now().strftime(\"%Y-%m-%d %H:%M:%S\")\n",
    "results_to_save = {\n",
    "    \"model\": \"text-embedding-3-large\",\n",
    "    \"results\": results\n",
    "}"
   ]
  },
  {
   "cell_type": "code",
   "execution_count": 40,
   "metadata": {},
   "outputs": [],
   "source": [
    "with open(f'results/{timestamp}.json', 'w') as f:\n",
    "    json.dump(results_to_save, f)"
   ]
  }
 ],
 "metadata": {
  "kernelspec": {
   "display_name": "Python 3",
   "language": "python",
   "name": "python3"
  },
  "language_info": {
   "codemirror_mode": {
    "name": "ipython",
    "version": 3
   },
   "file_extension": ".py",
   "mimetype": "text/x-python",
   "name": "python",
   "nbconvert_exporter": "python",
   "pygments_lexer": "ipython3",
   "version": "3.9.6"
  }
 },
 "nbformat": 4,
 "nbformat_minor": 2
}
