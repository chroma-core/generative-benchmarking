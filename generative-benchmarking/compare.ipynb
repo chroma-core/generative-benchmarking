{
 "cells": [
  {
   "cell_type": "markdown",
   "metadata": {},
   "source": [
    "# Compare Embedding Models\n",
    "\n",
    "This notebook walks through how to compare various embedding models with your custom benchmark results.\n",
    "\n",
    "NOTE: what else would be useful here?"
   ]
  },
  {
   "cell_type": "markdown",
   "metadata": {},
   "source": [
    "## 1. Setup"
   ]
  },
  {
   "cell_type": "markdown",
   "metadata": {},
   "source": [
    "### 1.1 Install & Import\n",
    "\n",
    "Install the necessary packages."
   ]
  },
  {
   "cell_type": "code",
   "execution_count": null,
   "metadata": {},
   "outputs": [],
   "source": [
    "!pip install -r requirements.txt"
   ]
  },
  {
   "cell_type": "code",
   "execution_count": null,
   "metadata": {},
   "outputs": [],
   "source": [
    "%load_ext autoreload\n",
    "%autoreload 2\n",
    "\n",
    "import pandas as pd\n",
    "import numpy as np\n",
    "import json\n",
    "from functions.utils import *\n",
    "from functions.visualize import *"
   ]
  },
  {
   "cell_type": "markdown",
   "metadata": {},
   "source": [
    "### 1.2 Load in Results"
   ]
  },
  {
   "cell_type": "code",
   "execution_count": null,
   "metadata": {},
   "outputs": [],
   "source": [
    "with open(\"results/timestamp_1.json\", \"r\") as f:\n",
    "    results_1 = json.load(f)\n",
    "\n",
    "with open(\"results/timestamp_2.json\", \"r\") as f:\n",
    "    results_2 = json.load(f)\n",
    "\n",
    "# Load in the results you wish to compare"
   ]
  },
  {
   "cell_type": "code",
   "execution_count": null,
   "metadata": {},
   "outputs": [],
   "source": [
    "results_list = [results_1, results_2] # Add as many results as you want to compare\n",
    "\n",
    "# Create a dataframe of the results\n",
    "metrics_df = create_metrics_dataframe(results_list)"
   ]
  },
  {
   "cell_type": "markdown",
   "metadata": {},
   "source": [
    "## 2. Compare"
   ]
  },
  {
   "cell_type": "code",
   "execution_count": null,
   "metadata": {},
   "outputs": [],
   "source": [
    "compare_embedding_models(\n",
    "    metrics_df = metrics_df,\n",
    "    metric = \"Recall@10\",\n",
    "    title = \"Recall@10 Scores by Model\"\n",
    ")"
   ]
  }
 ],
 "metadata": {
  "kernelspec": {
   "display_name": "Python 3",
   "language": "python",
   "name": "python3"
  },
  "language_info": {
   "name": "python",
   "version": "3.9.6"
  }
 },
 "nbformat": 4,
 "nbformat_minor": 2
}
